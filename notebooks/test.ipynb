{
 "cells": [
  {
   "cell_type": "code",
   "execution_count": 2,
   "metadata": {},
   "outputs": [],
   "source": [
    "from qiskit import *\n",
    "from qiskit.tools.visualization import plot_histogram\n",
    "import numpy as np"
   ]
  },
  {
   "cell_type": "code",
   "execution_count": 5,
   "metadata": {},
   "outputs": [
    {
     "data": {
      "image/png": "[encoded data removed]",
      "text/plain": [
       "<Figure size 517.72x204.68 with 1 Axes>"
      ]
     },
     "execution_count": 5,
     "metadata": {},
     "output_type": "execute_result"
    }
   ],
   "source": [
    "measure_z = QuantumCircuit(2,2)\n",
    "measure_z.x(0)\n",
    "measure_z.barrier()\n",
    "measure_z.cx(0,1)\n",
    "measure_z.barrier()\n",
    "measure_z.measure(0,0)\n",
    "measure_z.measure(1,1)\n",
    "measure_z.draw(output='mpl')"
   ]
  },
  {
   "cell_type": "code",
   "execution_count": 31,
   "metadata": {},
   "outputs": [
    {
     "name": "stdout",
     "output_type": "stream",
     "text": [
      "Results for z measurement:\n"
     ]
    },
    {
     "data": {
      "image/png": "[encoded data removed]",
      "text/plain": [
       "<Figure size 504x360 with 1 Axes>"
      ]
     },
     "execution_count": 31,
     "metadata": {},
     "output_type": "execute_result"
    }
   ],
   "source": [
    "print('Results for z measurement:')\n",
    "counts = execute(measure_z, Aer.get_backend('qasm_simulator')).result().get_counts()\n",
    "plot_histogram(counts)"
   ]
  },
  {
   "cell_type": "code",
   "execution_count": 32,
   "metadata": {},
   "outputs": [
    {
     "data": {
      "image/png": "[encoded data removed]",
      "text/plain": [
       "<Figure size 233.576x144.48 with 1 Axes>"
      ]
     },
     "execution_count": 32,
     "metadata": {},
     "output_type": "execute_result"
    }
   ],
   "source": [
    "measure_x = QuantumCircuit(1,1)\n",
    "measure_x.h(0)\n",
    "measure_x.measure(0,0)\n",
    "measure_x.draw(output='mpl')"
   ]
  },
  {
   "cell_type": "code",
   "execution_count": 33,
   "metadata": {},
   "outputs": [
    {
     "name": "stdout",
     "output_type": "stream",
     "text": [
      "Results for x measurement:\n"
     ]
    },
    {
     "data": {
      "image/png": "[encoded data removed]",
      "text/plain": [
       "<Figure size 504x360 with 1 Axes>"
      ]
     },
     "execution_count": 33,
     "metadata": {},
     "output_type": "execute_result"
    }
   ],
   "source": [
    "print('Results for x measurement:')\n",
    "counts = execute(measure_x,Aer.get_backend('qasm_simulator')).result().get_counts()\n",
    "plot_histogram(counts)"
   ]
  },
  {
   "cell_type": "code",
   "execution_count": 62,
   "metadata": {},
   "outputs": [
    {
     "name": "stdout",
     "output_type": "stream",
     "text": [
      "Input 1 1 -> 1\n"
     ]
    }
   ],
   "source": [
    "input1 = 1\n",
    "input2 = 1\n",
    "\n",
    "q = QuantumRegister(3) # two qubits in which to encode the input, and one for the output\n",
    "c = ClassicalRegister(1) # a bit to store the output\n",
    "qc = QuantumCircuit(q, c) # this is where the quantum program goes\n",
    "if input1 == 1:\n",
    "    qc.x(q[0])\n",
    "if input2 == 1:\n",
    "    qc.x(q[1])\n",
    "qc.ccx(q[0], q[1], q[2])\n",
    "qc.measure(q[2],c[0]) # YOU CAN CHANGE THIS IF YOU WANT TO\n",
    "\n",
    "# We'll run the program on a simulator\n",
    "backend = Aer.get_backend('qasm_simulator')\n",
    "# Since the output will be deterministic, we can use just a single shot to get it\n",
    "job = execute(qc,backend,shots=1,memory=True)\n",
    "output = job.result().get_memory()[0]\n",
    "\n",
    "print(f\"Input {input1} {input2} -> {output}\")"
   ]
  },
  {
   "cell_type": "code",
   "execution_count": 56,
   "metadata": {},
   "outputs": [],
   "source": [
    "def XOR(input1,input2):\n",
    "    \n",
    "    q = QuantumRegister(2) # two qubits in which to encode and manipulate the input\n",
    "    c = ClassicalRegister(1) # a bit to store the output\n",
    "    qc = QuantumCircuit(q, c) # this is where the quantum program goes\n",
    "\n",
    "    if input1 == 1:\n",
    "        qc.x(q[0])\n",
    "    if input2 == 1:\n",
    "        qc.x(q[1])\n",
    "        \n",
    "    qc.cx(q[0], q[1])\n",
    "    qc.measure(q[1],c[0]) # YOU CAN CHANGE THIS IF YOU WANT TO\n",
    "    \n",
    "    # We'll run the program on a simulator\n",
    "    backend = Aer.get_backend('qasm_simulator')\n",
    "    # Since the output will be deterministic, we can use just a single shot to get it\n",
    "    job = execute(qc,backend,shots=1,memory=True)\n",
    "    output = job.result().get_memory()[0]\n",
    "    print(f\"Input {input1} {input2} -> {output}\")\n",
    "    return output"
   ]
  },
  {
   "cell_type": "code",
   "execution_count": 57,
   "metadata": {},
   "outputs": [
    {
     "name": "stdout",
     "output_type": "stream",
     "text": [
      "\n",
      "Results for the XOR gate\n",
      "Input 0 0 -> 0\n",
      "    Inputs 0 0 give output 0\n",
      "Input 0 1 -> 1\n",
      "    Inputs 0 1 give output 1\n",
      "Input 1 0 -> 1\n",
      "    Inputs 1 0 give output 1\n",
      "Input 1 1 -> 0\n",
      "    Inputs 1 1 give output 0\n"
     ]
    }
   ],
   "source": [
    "print('\\nResults for the XOR gate')\n",
    "for input1 in [0, 1]:\n",
    "    for input2 in [0, 1]:\n",
    "        print('    Inputs',input1,input2,'give output',XOR(input1,input2))"
   ]
  },
  {
   "cell_type": "code",
   "execution_count": null,
   "metadata": {},
   "outputs": [],
   "source": []
  }
 ],
 "metadata": {
  "kernelspec": {
   "display_name": "Python 3",
   "language": "python",
   "name": "python3"
  },
  "language_info": {
   "codemirror_mode": {
    "name": "ipython",
    "version": 3
   },
   "file_extension": ".py",
   "mimetype": "text/x-python",
   "name": "python",
   "nbconvert_exporter": "python",
   "pygments_lexer": "ipython3",
   "version": "3.6.5"
  }
 },
 "nbformat": 4,
 "nbformat_minor": 2
}
