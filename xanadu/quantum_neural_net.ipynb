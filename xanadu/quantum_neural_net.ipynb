{
 "cells": [
  {
   "cell_type": "code",
   "execution_count": 1,
   "metadata": {
    "collapsed": false,
    "jupyter": {
     "outputs_hidden": false
    }
   },
   "outputs": [],
   "source": [
    "# This cell is added by sphinx-gallery\n",
    "# It can be customized to whatever you like\n",
    "%matplotlib inline"
   ]
  },
  {
   "cell_type": "markdown",
   "metadata": {},
   "source": [
    "\n",
    "\n",
    "Function fitting with a quantum neural network\n",
    "==============================================\n",
    "\n",
    ".. meta::\n",
    "    :property=\"og:description\": In this demonstration, we show how a variational\n",
    "        circuit can be used to learn a fit for a one-dimensional function\n",
    "        from noisy samples.\n",
    "    :property=\"og:image\": https://pennylane.ai/qml/_images/qnn_output_28_0.png\n",
    "\n",
    "In this example we show how a variational circuit can be used to learn a\n",
    "fit for a one-dimensional function when being trained with noisy samples\n",
    "from that function.\n",
    "\n",
    "The variational circuit we use is the continuous-variable quantum neural\n",
    "network model described in `Killoran et al.\n",
    "(2018) <https://arxiv.org/abs/1806.06871>`__.\n",
    "\n",
    "Imports\n",
    "~~~~~~~\n",
    "\n",
    "We import PennyLane, the wrapped version of NumPy provided by PennyLane,\n",
    "and an optimizer.\n"
   ]
  },
  {
   "cell_type": "code",
   "execution_count": 2,
   "metadata": {
    "collapsed": false,
    "jupyter": {
     "outputs_hidden": false
    }
   },
   "outputs": [],
   "source": [
    "import pennylane as qml\n",
    "from pennylane import numpy as np\n",
    "from pennylane.optimize import AdamOptimizer"
   ]
  },
  {
   "cell_type": "markdown",
   "metadata": {},
   "source": [
    "The device we use is the Strawberry Fields simulator, this time with\n",
    "only one quantum mode (or ``wire``). You will need to have the\n",
    "Strawberry Fields plugin for PennyLane installed.\n",
    "\n"
   ]
  },
  {
   "cell_type": "code",
   "execution_count": 3,
   "metadata": {
    "collapsed": false,
    "jupyter": {
     "outputs_hidden": false
    }
   },
   "outputs": [],
   "source": [
    "dev = qml.device(\"strawberryfields.fock\", wires=1, cutoff_dim=10)"
   ]
  },
  {
   "cell_type": "markdown",
   "metadata": {},
   "source": [
    "Quantum node\n",
    "~~~~~~~~~~~~\n",
    "\n",
    "For a single quantum mode, each layer of the variational circuit is\n",
    "defined as:\n",
    "\n"
   ]
  },
  {
   "cell_type": "code",
   "execution_count": 4,
   "metadata": {
    "collapsed": false,
    "jupyter": {
     "outputs_hidden": false
    }
   },
   "outputs": [],
   "source": [
    "def layer(v):\n",
    "    # Matrix multiplication of input layer\n",
    "    qml.Rotation(v[0], wires=0)\n",
    "    qml.Squeezing(v[1], 0.0, wires=0)\n",
    "    qml.Rotation(v[2], wires=0)\n",
    "\n",
    "    # Bias\n",
    "    qml.Displacement(v[3], 0.0, wires=0)\n",
    "\n",
    "    # Element-wise nonlinear transformation\n",
    "    qml.Kerr(v[4], wires=0)"
   ]
  },
  {
   "cell_type": "markdown",
   "metadata": {},
   "source": [
    "The variational circuit in the quantum node first encodes the input into\n",
    "the displacement of the mode, and then executes the layers. The output\n",
    "is the expectation of the x-quadrature.\n",
    "\n"
   ]
  },
  {
   "cell_type": "code",
   "execution_count": 5,
   "metadata": {
    "collapsed": false,
    "jupyter": {
     "outputs_hidden": false
    }
   },
   "outputs": [],
   "source": [
    "@qml.qnode(dev)\n",
    "def quantum_neural_net(var, x=None):\n",
    "    # Encode input x into quantum state\n",
    "    qml.Displacement(x, 0.0, wires=0)\n",
    "\n",
    "    # \"layer\" subcircuits\n",
    "    for v in var:\n",
    "        layer(v)\n",
    "\n",
    "    return qml.expval(qml.X(0))"
   ]
  },
  {
   "cell_type": "markdown",
   "metadata": {},
   "source": [
    "Objective\n",
    "~~~~~~~~~\n",
    "\n",
    "As an objective we take the square loss between target labels and model\n",
    "predictions.\n",
    "\n"
   ]
  },
  {
   "cell_type": "code",
   "execution_count": 6,
   "metadata": {
    "collapsed": false,
    "jupyter": {
     "outputs_hidden": false
    }
   },
   "outputs": [],
   "source": [
    "def square_loss(labels, predictions):\n",
    "    loss = 0\n",
    "    for l, p in zip(labels, predictions):\n",
    "        loss = loss + (l - p) ** 2\n",
    "\n",
    "    loss = loss / len(labels)\n",
    "    return loss"
   ]
  },
  {
   "cell_type": "markdown",
   "metadata": {},
   "source": [
    "In the cost function, we compute the outputs from the variational\n",
    "circuit. Function fitting is a regression problem, and we interpret the\n",
    "expectations from the quantum node as predictions (i.e., without\n",
    "applying postprocessing such as thresholding).\n",
    "\n"
   ]
  },
  {
   "cell_type": "code",
   "execution_count": 7,
   "metadata": {
    "collapsed": false,
    "jupyter": {
     "outputs_hidden": false
    }
   },
   "outputs": [],
   "source": [
    "def cost(var, features, labels):\n",
    "    preds = [quantum_neural_net(var, x=x) for x in features]\n",
    "    return square_loss(labels, preds)"
   ]
  },
  {
   "cell_type": "markdown",
   "metadata": {},
   "source": [
    "Optimization\n",
    "~~~~~~~~~~~~\n",
    "\n",
    "We load noisy data samples of a sine function.\n",
    "\n"
   ]
  },
  {
   "cell_type": "code",
   "execution_count": 28,
   "metadata": {
    "collapsed": false,
    "jupyter": {
     "outputs_hidden": false
    }
   },
   "outputs": [],
   "source": [
    "# data = np.loadtxt(\"data/sine.txt\")\n",
    "# X = data[:, 0]\n",
    "# Y = data[:, 1]\n",
    "\n",
    "n = 50\n",
    "X = np.linspace(-1, 1, n)\n",
    "Y = np.sin(2.5*X) + (np.random.random(n)-0.5)/3"
   ]
  },
  {
   "cell_type": "markdown",
   "metadata": {},
   "source": [
    "Before training a model, let’s examine the data.\n",
    "\n",
    "*Note: For the next cell to work you need the matplotlib library.*\n",
    "\n"
   ]
  },
  {
   "cell_type": "code",
   "execution_count": 29,
   "metadata": {
    "collapsed": false,
    "jupyter": {
     "outputs_hidden": false
    }
   },
   "outputs": [
    {
     "data": {
      "image/png": "[encoded data removed]",
      "text/plain": [
       "<Figure size 432x288 with 1 Axes>"
      ]
     },
     "metadata": {
      "needs_background": "light"
     },
     "output_type": "display_data"
    }
   ],
   "source": [
    "import matplotlib.pyplot as plt\n",
    "\n",
    "plt.figure()\n",
    "plt.scatter(X, Y)\n",
    "plt.xlabel(\"x\", fontsize=18)\n",
    "plt.ylabel(\"f(x)\", fontsize=18)\n",
    "plt.tick_params(axis=\"both\", which=\"major\", labelsize=16)\n",
    "plt.tick_params(axis=\"both\", which=\"minor\", labelsize=16)\n",
    "plt.show()"
   ]
  },
  {
   "cell_type": "markdown",
   "metadata": {},
   "source": [
    "![](../demonstrations/quantum_neural_net/qnn_output_20_0.png)\n",
    "\n",
    "\n",
    "The network’s weights (called ``var`` here) are initialized with values\n",
    "sampled from a normal distribution. We use 4 layers; performance has\n",
    "been found to plateau at around 6 layers.\n",
    "\n"
   ]
  },
  {
   "cell_type": "code",
   "execution_count": 10,
   "metadata": {
    "collapsed": false,
    "jupyter": {
     "outputs_hidden": false
    }
   },
   "outputs": [
    {
     "name": "stdout",
     "output_type": "stream",
     "text": [
      "[[ 0.08820262  0.02000786  0.0489369   0.11204466  0.0933779 ]\n",
      " [-0.04886389  0.04750442 -0.00756786 -0.00516094  0.02052993]\n",
      " [ 0.00720218  0.07271368  0.03805189  0.00608375  0.02219316]\n",
      " [ 0.01668372  0.07470395 -0.01025791  0.01565339 -0.04270479]]\n"
     ]
    }
   ],
   "source": [
    "np.random.seed(0)\n",
    "num_layers = 4\n",
    "var_init = 0.05 * np.random.randn(num_layers, 5)\n",
    "print(var_init)"
   ]
  },
  {
   "cell_type": "markdown",
   "metadata": {},
   "source": [
    ".. rst-class:: sphx-glr-script-out\n",
    "\n",
    " Out:\n",
    "\n",
    " .. code-block:: none\n",
    "\n",
    "   array([[ 0.08820262,  0.02000786,  0.0489369 ,  0.11204466,  0.0933779 ],\n",
    "          [-0.04886389,  0.04750442, -0.00756786, -0.00516094,  0.02052993],\n",
    "          [ 0.00720218,  0.07271368,  0.03805189,  0.00608375,  0.02219316],\n",
    "          [ 0.01668372,  0.07470395, -0.01025791,  0.01565339, -0.04270479]])\n",
    "\n",
    "Using the Adam optimizer, we update the weights for 500 steps (this\n",
    "takes some time). More steps will lead to a better fit.\n",
    "\n"
   ]
  },
  {
   "cell_type": "code",
   "execution_count": 32,
   "metadata": {
    "collapsed": false,
    "jupyter": {
     "outputs_hidden": false
    }
   },
   "outputs": [
    {
     "name": "stdout",
     "output_type": "stream",
     "text": [
      "Iter:     1 | Cost: 0.1443702 \n",
      "Iter:     2 | Cost: 0.1263615 \n",
      "Iter:     3 | Cost: 0.1125536 \n",
      "Iter:     4 | Cost: 0.1014877 \n",
      "Iter:     5 | Cost: 0.0924946 \n",
      "Iter:     6 | Cost: 0.0851991 \n",
      "Iter:     7 | Cost: 0.0793558 \n",
      "Iter:     8 | Cost: 0.0747806 \n",
      "Iter:     9 | Cost: 0.0713175 \n",
      "Iter:    10 | Cost: 0.0688211 \n",
      "Iter:    11 | Cost: 0.0671487 \n",
      "Iter:    12 | Cost: 0.0661565 \n",
      "Iter:    13 | Cost: 0.0657006 \n",
      "Iter:    14 | Cost: 0.0656392 \n",
      "Iter:    15 | Cost: 0.0658373 \n",
      "Iter:    16 | Cost: 0.0661709 \n",
      "Iter:    17 | Cost: 0.0665319 \n",
      "Iter:    18 | Cost: 0.0668318 \n",
      "Iter:    19 | Cost: 0.0670043 \n",
      "Iter:    20 | Cost: 0.0670058 \n",
      "Iter:    21 | Cost: 0.0668156 \n",
      "Iter:    22 | Cost: 0.0664331 \n",
      "Iter:    23 | Cost: 0.0658748 \n",
      "Iter:    24 | Cost: 0.0651700 \n",
      "Iter:    25 | Cost: 0.0643565 \n",
      "Iter:    26 | Cost: 0.0634757 \n",
      "Iter:    27 | Cost: 0.0625688 \n",
      "Iter:    28 | Cost: 0.0616737 \n",
      "Iter:    29 | Cost: 0.0608217 \n",
      "Iter:    30 | Cost: 0.0600369 \n",
      "Iter:    31 | Cost: 0.0593349 \n",
      "Iter:    32 | Cost: 0.0587234 \n",
      "Iter:    33 | Cost: 0.0582026 \n",
      "Iter:    34 | Cost: 0.0577668 \n",
      "Iter:    35 | Cost: 0.0574052 \n",
      "Iter:    36 | Cost: 0.0571043 \n",
      "Iter:    37 | Cost: 0.0568486 \n",
      "Iter:    38 | Cost: 0.0566222 \n",
      "Iter:    39 | Cost: 0.0564099 \n",
      "Iter:    40 | Cost: 0.0561980 \n",
      "Iter:    41 | Cost: 0.0559752 \n",
      "Iter:    42 | Cost: 0.0557326 \n",
      "Iter:    43 | Cost: 0.0554639 \n",
      "Iter:    44 | Cost: 0.0551658 \n",
      "Iter:    45 | Cost: 0.0548375 \n",
      "Iter:    46 | Cost: 0.0544805 \n",
      "Iter:    47 | Cost: 0.0540980 \n",
      "Iter:    48 | Cost: 0.0536949 \n",
      "Iter:    49 | Cost: 0.0532768 \n",
      "Iter:    50 | Cost: 0.0528495 \n",
      "Iter:    51 | Cost: 0.0524191 \n",
      "Iter:    52 | Cost: 0.0519908 \n",
      "Iter:    53 | Cost: 0.0515688 \n",
      "Iter:    54 | Cost: 0.0511565 \n",
      "Iter:    55 | Cost: 0.0507555 \n",
      "Iter:    56 | Cost: 0.0503665 \n",
      "Iter:    57 | Cost: 0.0499886 \n",
      "Iter:    58 | Cost: 0.0496202 \n",
      "Iter:    59 | Cost: 0.0492588 \n",
      "Iter:    60 | Cost: 0.0489016 \n",
      "Iter:    61 | Cost: 0.0485457 \n",
      "Iter:    62 | Cost: 0.0481886 \n",
      "Iter:    63 | Cost: 0.0478281 \n",
      "Iter:    64 | Cost: 0.0474629 \n",
      "Iter:    65 | Cost: 0.0470923 \n",
      "Iter:    66 | Cost: 0.0467163 \n",
      "Iter:    67 | Cost: 0.0463356 \n",
      "Iter:    68 | Cost: 0.0459513 \n",
      "Iter:    69 | Cost: 0.0455649 \n",
      "Iter:    70 | Cost: 0.0451778 \n",
      "Iter:    71 | Cost: 0.0447915 \n",
      "Iter:    72 | Cost: 0.0444069 \n",
      "Iter:    73 | Cost: 0.0440250 \n",
      "Iter:    74 | Cost: 0.0436461 \n",
      "Iter:    75 | Cost: 0.0432704 \n",
      "Iter:    76 | Cost: 0.0428974 \n",
      "Iter:    77 | Cost: 0.0425269 \n",
      "Iter:    78 | Cost: 0.0421581 \n",
      "Iter:    79 | Cost: 0.0417905 \n",
      "Iter:    80 | Cost: 0.0414236 \n",
      "Iter:    81 | Cost: 0.0410570 \n",
      "Iter:    82 | Cost: 0.0406903 \n",
      "Iter:    83 | Cost: 0.0403237 \n",
      "Iter:    84 | Cost: 0.0399572 \n",
      "Iter:    85 | Cost: 0.0395911 \n",
      "Iter:    86 | Cost: 0.0392258 \n",
      "Iter:    87 | Cost: 0.0388615 \n",
      "Iter:    88 | Cost: 0.0384988 \n",
      "Iter:    89 | Cost: 0.0381378 \n",
      "Iter:    90 | Cost: 0.0377787 \n",
      "Iter:    91 | Cost: 0.0374217 \n",
      "Iter:    92 | Cost: 0.0370667 \n",
      "Iter:    93 | Cost: 0.0367136 \n",
      "Iter:    94 | Cost: 0.0363623 \n",
      "Iter:    95 | Cost: 0.0360126 \n",
      "Iter:    96 | Cost: 0.0356645 \n",
      "Iter:    97 | Cost: 0.0353177 \n",
      "Iter:    98 | Cost: 0.0349724 \n",
      "Iter:    99 | Cost: 0.0346283 \n",
      "Iter:   100 | Cost: 0.0342857 \n",
      "Iter:   101 | Cost: 0.0339446 \n",
      "Iter:   102 | Cost: 0.0336050 \n",
      "Iter:   103 | Cost: 0.0332673 \n",
      "Iter:   104 | Cost: 0.0329314 \n",
      "Iter:   105 | Cost: 0.0325974 \n",
      "Iter:   106 | Cost: 0.0322653 \n",
      "Iter:   107 | Cost: 0.0319353 \n",
      "Iter:   108 | Cost: 0.0316073 \n",
      "Iter:   109 | Cost: 0.0312812 \n",
      "Iter:   110 | Cost: 0.0309572 \n",
      "Iter:   111 | Cost: 0.0306350 \n",
      "Iter:   112 | Cost: 0.0303148 \n",
      "Iter:   113 | Cost: 0.0299966 \n",
      "Iter:   114 | Cost: 0.0296803 \n",
      "Iter:   115 | Cost: 0.0293660 \n",
      "Iter:   116 | Cost: 0.0290537 \n",
      "Iter:   117 | Cost: 0.0287435 \n",
      "Iter:   118 | Cost: 0.0284354 \n",
      "Iter:   119 | Cost: 0.0281295 \n",
      "Iter:   120 | Cost: 0.0278258 \n",
      "Iter:   121 | Cost: 0.0275242 \n",
      "Iter:   122 | Cost: 0.0272249 \n",
      "Iter:   123 | Cost: 0.0269278 \n",
      "Iter:   124 | Cost: 0.0266329 \n",
      "Iter:   125 | Cost: 0.0263403 \n",
      "Iter:   126 | Cost: 0.0260499 \n",
      "Iter:   127 | Cost: 0.0257618 \n",
      "Iter:   128 | Cost: 0.0254760 \n",
      "Iter:   129 | Cost: 0.0251925 \n",
      "Iter:   130 | Cost: 0.0249114 \n",
      "Iter:   131 | Cost: 0.0246326 \n",
      "Iter:   132 | Cost: 0.0243563 \n",
      "Iter:   133 | Cost: 0.0240825 \n",
      "Iter:   134 | Cost: 0.0238111 \n",
      "Iter:   135 | Cost: 0.0235423 \n",
      "Iter:   136 | Cost: 0.0232760 \n",
      "Iter:   137 | Cost: 0.0230122 \n",
      "Iter:   138 | Cost: 0.0227511 \n",
      "Iter:   139 | Cost: 0.0224925 \n",
      "Iter:   140 | Cost: 0.0222367 \n",
      "Iter:   141 | Cost: 0.0219835 \n",
      "Iter:   142 | Cost: 0.0217329 \n",
      "Iter:   143 | Cost: 0.0214852 \n",
      "Iter:   144 | Cost: 0.0212401 \n",
      "Iter:   145 | Cost: 0.0209979 \n",
      "Iter:   146 | Cost: 0.0207585 \n",
      "Iter:   147 | Cost: 0.0205219 \n",
      "Iter:   148 | Cost: 0.0202881 \n",
      "Iter:   149 | Cost: 0.0200572 \n",
      "Iter:   150 | Cost: 0.0198293 \n"
     ]
    }
   ],
   "source": [
    "opt = AdamOptimizer(0.01, beta1=0.9, beta2=0.999)\n",
    "\n",
    "var = var_init\n",
    "for it in range(150):\n",
    "    var = opt.step(lambda v: cost(v, X, Y), var)\n",
    "    print(\"Iter: {:5d} | Cost: {:0.7f} \".format(it + 1, cost(var, X, Y)))"
   ]
  },
  {
   "cell_type": "code",
   "execution_count": 33,
   "metadata": {
    "collapsed": false,
    "jupyter": {
     "outputs_hidden": false
    }
   },
   "outputs": [],
   "source": [
    "x_pred = np.linspace(-1, 1, 50)\n",
    "predictions = [quantum_neural_net(var, x=x_) for x_ in x_pred]"
   ]
  },
  {
   "cell_type": "markdown",
   "metadata": {},
   "source": [
    "and plot the shape of the function that the model has “learned” from\n",
    "the noisy data (green dots).\n",
    "\n"
   ]
  },
  {
   "cell_type": "code",
   "execution_count": 34,
   "metadata": {
    "collapsed": false,
    "jupyter": {
     "outputs_hidden": false
    }
   },
   "outputs": [
    {
     "data": {
      "image/png": "[encoded data removed]",
      "text/plain": [
       "<Figure size 432x288 with 1 Axes>"
      ]
     },
     "metadata": {
      "needs_background": "light"
     },
     "output_type": "display_data"
    }
   ],
   "source": [
    "plt.figure()\n",
    "plt.scatter(X, Y, label=\"Noisy\")\n",
    "plt.scatter(X, np.sin(2.5*X), label=\"True\")\n",
    "plt.scatter(x_pred, predictions, color=\"green\", label=\"Pred\")\n",
    "plt.xlabel(\"x\")\n",
    "plt.ylabel(\"f(x)\")\n",
    "plt.tick_params(axis=\"both\", which=\"major\")\n",
    "plt.tick_params(axis=\"both\", which=\"minor\")\n",
    "plt.legend()\n",
    "plt.show()"
   ]
  },
  {
   "cell_type": "markdown",
   "metadata": {},
   "source": [
    "![](../demonstrations/quantum_neural_net/qnn_output_28_0.png)\n",
    "\n",
    "\n",
    "The model has learned to smooth the noisy data.\n",
    "\n",
    "In fact, we can use PennyLane to look at typical functions that the\n",
    "model produces without being trained at all. The shape of these\n",
    "functions varies significantly with the variance hyperparameter for the\n",
    "weight initialization.\n",
    "\n",
    "Setting this hyperparameter to a small value produces almost linear\n",
    "functions, since all quantum gates in the variational circuit\n",
    "approximately perform the identity transformation in that case. Larger\n",
    "values produce smoothly oscillating functions with a period that depends\n",
    "on the number of layers used (generically, the more layers, the smaller\n",
    "the period).\n",
    "\n"
   ]
  },
  {
   "cell_type": "code",
   "execution_count": 14,
   "metadata": {
    "collapsed": false,
    "jupyter": {
     "outputs_hidden": false
    }
   },
   "outputs": [
    {
     "data": {
      "image/png": "[encoded data removed]",
      "text/plain": [
       "<Figure size 432x288 with 1 Axes>"
      ]
     },
     "metadata": {
      "needs_background": "light"
     },
     "output_type": "display_data"
    }
   ],
   "source": [
    "variance = 1.0\n",
    "\n",
    "plt.figure()\n",
    "x_pred = np.linspace(-2, 2, 50)\n",
    "for i in range(7):\n",
    "    rnd_var = variance * np.random.randn(num_layers, 7)\n",
    "    predictions = [quantum_neural_net(rnd_var, x=x_) for x_ in x_pred]\n",
    "    plt.plot(x_pred, predictions, color=\"black\")\n",
    "plt.xlabel(\"x\")\n",
    "plt.ylabel(\"f(x)\")\n",
    "plt.tick_params(axis=\"both\", which=\"major\")\n",
    "plt.tick_params(axis=\"both\", which=\"minor\")\n",
    "plt.show()"
   ]
  },
  {
   "cell_type": "markdown",
   "metadata": {},
   "source": [
    "![](../demonstrations/quantum_neural_net/qnn_output_30_0.png)\n",
    "\n",
    "\n"
   ]
  }
 ],
 "metadata": {
  "kernelspec": {
   "display_name": "Python 3",
   "language": "python",
   "name": "python3"
  },
  "language_info": {
   "codemirror_mode": {
    "name": "ipython",
    "version": 3
   },
   "file_extension": ".py",
   "mimetype": "text/x-python",
   "name": "python",
   "nbconvert_exporter": "python",
   "pygments_lexer": "ipython3",
   "version": "3.6.10"
  }
 },
 "nbformat": 4,
 "nbformat_minor": 4
}
